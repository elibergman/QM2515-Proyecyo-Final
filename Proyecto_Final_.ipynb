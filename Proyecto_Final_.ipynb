{
  "cells": [
    {
      "cell_type": "markdown",
      "metadata": {
        "id": "view-in-github",
        "colab_type": "text"
      },
      "source": [
        "<a href=\"https://colab.research.google.com/github/elibergman/QM2515-Proyecyo-Final/blob/main/Proyecto_Final_.ipynb\" target=\"_parent\"><img src=\"https://colab.research.google.com/assets/colab-badge.svg\" alt=\"Open In Colab\"/></a>"
      ]
    },
    {
      "cell_type": "code",
      "execution_count": null,
      "metadata": {
        "id": "rqVJvsAeQvZ2"
      },
      "outputs": [],
      "source": [
        "import pandas as pd\n",
        "import numpy as np\n",
        "import tensorflow as tf\n",
        "from sklearn.preprocessing import StandardScaler\n",
        "\n",
        "# Cargar datos existentes\n",
        "datos = pd.read_excel('Datos-UV-Visible.xlsx')\n",
        "\n",
        "# Seleccionar columnas relevantes\n",
        "X = datos[['Densidad (ppm)', 'Wavelength (nm)']].copy()\n",
        "y = datos[['Absorbance (AU)', 'Std.Dev.']].copy()\n",
        "\n",
        "# Preprocesamiento de datos\n",
        "X.replace([np.inf, -np.inf], np.nan, inplace=True)\n",
        "X = X.apply(pd.to_numeric, errors='coerce')\n",
        "X.fillna(X.mean(), inplace=True)\n",
        "\n",
        "y = y.apply(pd.to_numeric, errors='coerce')\n",
        "y.fillna(y.mean(), inplace=True)\n",
        "\n",
        "# Escalar los datos\n",
        "scaler = StandardScaler()\n",
        "X_scaled = scaler.fit_transform(X)\n",
        "\n",
        "# Construir un modelo inicial\n",
        "modelo = tf.keras.models.Sequential([\n",
        "    tf.keras.layers.Dense(512, activation='relu', input_shape=(X_scaled.shape[1],)),\n",
        "    tf.keras.layers.Dense(256, activation='relu'),\n",
        "    tf.keras.layers.Dense(128, activation='relu'),\n",
        "    tf.keras.layers.Dense(64, activation='relu'),\n",
        "    tf.keras.layers.Dense(32, activation='relu'),\n",
        "    tf.keras.layers.Dense(2, activation='linear')  # Dos nodos de salida lineales\n",
        "])\n",
        "\n",
        "# Compilar el modelo\n",
        "opt = tf.keras.optimizers.Adam(learning_rate=0.0001)\n",
        "modelo.compile(optimizer=opt, loss='mean_squared_error', metrics=['mean_absolute_error'])\n",
        "\n",
        "# Entrenar el modelo con todos los datos existentes\n",
        "modelo.fit(X_scaled, y, epochs=50, verbose=2)\n",
        "\n",
        "# Guardar el modelo entrenado\n",
        "modelo.save('modelo_uv_visible.h5')\n",
        "print(\"Modelo guardado\")\n",
        "\n",
        "# Función para cargar el modelo\n",
        "def cargar_modelo(nombre_archivo):\n",
        "    return tf.keras.models.load_model(nombre_archivo)\n",
        "\n",
        "# Cargar el modelo entrenado\n",
        "modelo_cargado = cargar_modelo('modelo_uv_visible.h5')\n",
        "\n",
        "# Función para realizar una predicción con el modelo cargado\n",
        "def predecir_absorbancia_std_cargado(densidad, longitud_onda, modelo):\n",
        "    entrada = pd.DataFrame({'Densidad (ppm)': [densidad], 'Wavelength (nm)': [longitud_onda]})\n",
        "    entrada_scaled = scaler.transform(entrada)\n",
        "    prediccion = modelo.predict(entrada_scaled)\n",
        "    return prediccion[0]\n",
        "\n",
        "# Pedir al usuario los valores de densidad y longitud de onda\n",
        "densidad_usuario = float(input(\"Ingresa el valor de la densidad (ppm): \"))\n",
        "longitud_onda_usuario = float(input(\"Ingresa el valor de la longitud de onda (nm): \"))\n",
        "\n",
        "# Realizar la predicción con el modelo cargado\n",
        "prediccion_cargada = predecir_absorbancia_std_cargado(densidad_usuario, longitud_onda_usuario, modelo_cargado)\n",
        "print(f\"La absorbancia predicha es: {prediccion_cargada[0]}\")\n",
        "print(f\"La desviación estándar predicha es: {prediccion_cargada[1]}\")\n",
        "\n"
      ]
    }
  ],
  "metadata": {
    "colab": {
      "provenance": [],
      "authorship_tag": "ABX9TyOTod6jX9rn4rGe8DyKIOiY",
      "include_colab_link": true
    },
    "kernelspec": {
      "display_name": "Python 3",
      "name": "python3"
    },
    "language_info": {
      "name": "python"
    }
  },
  "nbformat": 4,
  "nbformat_minor": 0
}